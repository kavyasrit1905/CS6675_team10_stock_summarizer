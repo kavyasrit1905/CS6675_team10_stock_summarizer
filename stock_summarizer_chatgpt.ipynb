{
  "cells": [
    {
      "cell_type": "code",
      "execution_count": 7,
      "metadata": {
        "colab": {
          "base_uri": "https://localhost:8080/"
        },
        "id": "IIV8qPpA2GeO",
        "outputId": "a609c5d0-df5b-4e19-981b-3d14da1e8c26"
      },
      "outputs": [
        {
          "name": "stdout",
          "output_type": "stream",
          "text": [
            "Collecting openai\n",
            "  Downloading openai-1.23.2-py3-none-any.whl (311 kB)\n",
            "\u001b[?25l     \u001b[90m━━━━━━━━━━━━━━━━━━━━━━━━━━━━━━━━━━━━━━━━\u001b[0m \u001b[32m0.0/311.2 kB\u001b[0m \u001b[31m?\u001b[0m eta \u001b[36m-:--:--\u001b[0m\r\u001b[2K     \u001b[91m━━━━━━━━━━━\u001b[0m\u001b[91m╸\u001b[0m\u001b[90m━━━━━━━━━━━━━━━━━━━━━━━━━━━━\u001b[0m \u001b[32m92.2/311.2 kB\u001b[0m \u001b[31m2.7 MB/s\u001b[0m eta \u001b[36m0:00:01\u001b[0m\r\u001b[2K     \u001b[90m━━━━━━━━━━━━━━━━━━━━━━━━━━━━━━━━━━━━━━━━\u001b[0m \u001b[32m311.2/311.2 kB\u001b[0m \u001b[31m5.2 MB/s\u001b[0m eta \u001b[36m0:00:00\u001b[0m\n",
            "\u001b[?25hRequirement already satisfied: anyio<5,>=3.5.0 in /usr/local/lib/python3.10/dist-packages (from openai) (3.7.1)\n",
            "Requirement already satisfied: distro<2,>=1.7.0 in /usr/lib/python3/dist-packages (from openai) (1.7.0)\n",
            "Collecting httpx<1,>=0.23.0 (from openai)\n",
            "  Downloading httpx-0.27.0-py3-none-any.whl (75 kB)\n",
            "\u001b[2K     \u001b[90m━━━━━━━━━━━━━━━━━━━━━━━━━━━━━━━━━━━━━━━━\u001b[0m \u001b[32m75.6/75.6 kB\u001b[0m \u001b[31m11.9 MB/s\u001b[0m eta \u001b[36m0:00:00\u001b[0m\n",
            "\u001b[?25hRequirement already satisfied: pydantic<3,>=1.9.0 in /usr/local/lib/python3.10/dist-packages (from openai) (2.7.0)\n",
            "Requirement already satisfied: sniffio in /usr/local/lib/python3.10/dist-packages (from openai) (1.3.1)\n",
            "Requirement already satisfied: tqdm>4 in /usr/local/lib/python3.10/dist-packages (from openai) (4.66.2)\n",
            "Requirement already satisfied: typing-extensions<5,>=4.7 in /usr/local/lib/python3.10/dist-packages (from openai) (4.11.0)\n",
            "Requirement already satisfied: idna>=2.8 in /usr/local/lib/python3.10/dist-packages (from anyio<5,>=3.5.0->openai) (3.7)\n",
            "Requirement already satisfied: exceptiongroup in /usr/local/lib/python3.10/dist-packages (from anyio<5,>=3.5.0->openai) (1.2.1)\n",
            "Requirement already satisfied: certifi in /usr/local/lib/python3.10/dist-packages (from httpx<1,>=0.23.0->openai) (2024.2.2)\n",
            "Collecting httpcore==1.* (from httpx<1,>=0.23.0->openai)\n",
            "  Downloading httpcore-1.0.5-py3-none-any.whl (77 kB)\n",
            "\u001b[2K     \u001b[90m━━━━━━━━━━━━━━━━━━━━━━━━━━━━━━━━━━━━━━━━\u001b[0m \u001b[32m77.9/77.9 kB\u001b[0m \u001b[31m10.0 MB/s\u001b[0m eta \u001b[36m0:00:00\u001b[0m\n",
            "\u001b[?25hCollecting h11<0.15,>=0.13 (from httpcore==1.*->httpx<1,>=0.23.0->openai)\n",
            "  Downloading h11-0.14.0-py3-none-any.whl (58 kB)\n",
            "\u001b[2K     \u001b[90m━━━━━━━━━━━━━━━━━━━━━━━━━━━━━━━━━━━━━━━━\u001b[0m \u001b[32m58.3/58.3 kB\u001b[0m \u001b[31m8.0 MB/s\u001b[0m eta \u001b[36m0:00:00\u001b[0m\n",
            "\u001b[?25hRequirement already satisfied: annotated-types>=0.4.0 in /usr/local/lib/python3.10/dist-packages (from pydantic<3,>=1.9.0->openai) (0.6.0)\n",
            "Requirement already satisfied: pydantic-core==2.18.1 in /usr/local/lib/python3.10/dist-packages (from pydantic<3,>=1.9.0->openai) (2.18.1)\n",
            "Installing collected packages: h11, httpcore, httpx, openai\n",
            "Successfully installed h11-0.14.0 httpcore-1.0.5 httpx-0.27.0 openai-1.23.2\n"
          ]
        }
      ],
      "source": [
        "! pip install --upgrade openai"
      ]
    },
    {
      "cell_type": "code",
      "execution_count": 8,
      "metadata": {
        "id": "Ge469eXqNCR4"
      },
      "outputs": [],
      "source": [
        "# imports\n",
        "import openai\n",
        "import os\n",
        "import json\n",
        "import time\n",
        "import ast\n",
        "from openai import OpenAI"
      ]
    },
    {
      "cell_type": "code",
      "execution_count": 9,
      "metadata": {
        "id": "WkleG-ZI8--p"
      },
      "outputs": [],
      "source": [
        "# constants\n",
        "tickers_list = ['NVDA', 'AMD', 'PLTR', 'DUOL', 'BYND']\n",
        "articles_data_path = \"/content/stock_summary_data.json\" # TO DO: upload this to repo\n",
        "custom_prompt_selector = {\n",
        "    \"beginner\": [False, \"Provide stock analysis for a beginner investor including the revenue model, business stand and position in the market. \"],\n",
        "    \"expert\": [True, \"Provide stock analysis for an expert investor including the risk factor by classifying it among High, low or medium; returns expected in high(greater than 15% per annum), medium(between 5% to 15% per annum) ,low(less than 5% per annum); Suggested investment duration among short term(within months) or longterm(within years). For every every decision you make provide a reason correleating it with stock price and market perfromance. \"],\n",
        "    \"SWOT\": [True, \"Include SWOT analysis, by listing top 3 strengths, weaknesses, Opportunities and Threats. If possible add if the above points are for short term or long term. \"],\n",
        "    \"competitive\": [False, \"Compare the current stock and its potential competitor interms of 'Market size', 'revenue stream', their strengths. For every comparison provide which stock is better. And in the end provide which stock is better based on your overall analysis. \"]\n",
        "}\n",
        "os.environ[\"OPENAI_API_KEY\"] = \"YOUR-OPEN-API-KEY\""
      ]
    },
    {
      "cell_type": "code",
      "execution_count": 25,
      "metadata": {
        "id": "iIebYakb06Be"
      },
      "outputs": [],
      "source": [
        "# TO DO:  fetch from frontend\n",
        "current_ticker = 'BYND'\n",
        "new_custom_prompt_selector = custom_prompt_selector.copy()\n",
        "# TO DO: Based on frontend input\n",
        "# new_custom_prompt_selector[\"beginner\"] =\n",
        "# new_custom_prompt_selector[\"expert\"] =\n",
        "# new_custom_prompt_selector[\"SWOT\"] =\n",
        "# new_custom_prompt_selector[\"competitive\"] ="
      ]
    },
    {
      "cell_type": "code",
      "execution_count": 13,
      "metadata": {
        "colab": {
          "base_uri": "https://localhost:8080/"
        },
        "id": "3m_5PkFL0xCf",
        "outputId": "eb0a1ab6-1b66-4a9a-99cd-910bf38ba3f7"
      },
      "outputs": [
        {
          "name": "stdout",
          "output_type": "stream",
          "text": [
            "Provide stock analysis for an expert investor including the risk factor by classifying it among High, low or medium; returns expected in high(greater than 15% per annum), medium(between 5% to 15% per annum) ,low(less than 5% per annum); Suggested investment duration among short term(within months) or longterm(within years). For every every decision you make provide a reason correleating it with stock price and market perfromance. Include SWOT analysis, by listing top 3 strengths, weaknesses, Opportunities and Threats. If possible add if the above points are for short term or long term. \n"
          ]
        }
      ],
      "source": [
        "# construct prompt based on user input\n",
        "def get_final_prompt(new_custom_prompt_selector):\n",
        "    final_prompt = \"\"\n",
        "    for prompt_type in new_custom_prompt_selector:\n",
        "        if custom_prompt_selector[prompt_type][0]:\n",
        "            final_prompt = final_prompt + custom_prompt_selector[prompt_type][1]\n",
        "    print(final_prompt)\n",
        "    return final_prompt\n",
        "final_prompt = get_final_prompt(new_custom_prompt_selector)"
      ]
    },
    {
      "cell_type": "code",
      "execution_count": 15,
      "metadata": {
        "id": "7k_ctdy01EmE"
      },
      "outputs": [],
      "source": [
        "news_articles_prompt = \"You are stock news analyzer. Store key content of the news that impacts profit and loss of the company, Strengths, weaknesses, opportunities, threats.\"\n",
        "prompt_to_combine = \"Based on the list of summaries of articles content you have in a json format article, combine and summarize the news articles ina json format. Do not miss any key information that is useful for the user to decide stock performance.\"\n",
        "sentiment_analysis_prompt = \"You are a stock news article analyzer. Your task is to perform sentiment analysis of the given news article based on its impact on stock performance. Take your time to analyze the article thoroughly before providing your analysis. Consider factors such as company performance, market trends, and analyst opinions. Output a single word indicating whether the sentiment is *positive*, *negative*, or *neutral*.\"\n"
      ]
    },
    {
      "cell_type": "markdown",
      "metadata": {
        "id": "e_BcPWC60UZY"
      },
      "source": [
        "Functions and prompts for ChatGPT API for\n",
        "1. Single news article summary\n",
        "2. Combining news articles\n",
        "3. Sentiment analysis"
      ]
    },
    {
      "cell_type": "code",
      "execution_count": 16,
      "metadata": {
        "id": "KCGuNzFxaRYi"
      },
      "outputs": [],
      "source": [
        "# function to summarize a single news article\n",
        "news_article_summarizer_function = [\n",
        "        {\n",
        "            \"name\": \"formatted_news_article_summary\",\n",
        "            \"description\": \"Format the summary of the stock news in a JSON format.\",\n",
        "            \"parameters\": {\n",
        "                \"type\": \"object\",\n",
        "                \"properties\": {\n",
        "                    \"summary_line\": {\n",
        "                        \"type\": \"string\",\n",
        "                        \"description\": (\"Based on the news article content summarize the news article interms of correleation with stock price and impact.\"\n",
        "                                        \"Do not include its strength or weaknesses or threats or anything about the performance.\")\n",
        "                    },\n",
        "                    \"Strengths\": {\n",
        "                        \"type\": \"string\",\n",
        "                        \"description\": \"Based on the content given, provide maximum of 3 strengths. If there are no strengths, output '1. NONE'\"\n",
        "                    },\n",
        "                    \"Weaknesses\": {\n",
        "                        \"type\": \"string\",\n",
        "                        \"description\": \"Based on the content given, provide maximum of 3 weaknesses. If there are no weaknesses, output '1. NONE'\"\n",
        "                    },\n",
        "                    \"Opportunities\": {\n",
        "                        \"type\": \"string\",\n",
        "                        \"description\": \"Based on the content given, provide maximum of 3 opportunities. If there are no opportunities, output '1. NONE'\"\n",
        "                    },\n",
        "                    \"Threats\": {\n",
        "                        \"type\": \"string\",\n",
        "                        \"description\": \"Based on the content given, provide maximum of 3 threats. If there are no threats, output '1. NONE'.\"\n",
        "                    }\n",
        "                }\n",
        "            }\n",
        "        }\n",
        "]\n",
        "\n",
        "# function to combine all news articles\n",
        "combine_stock_news = [\n",
        " {\n",
        "            \"name\": \"combined_news_article_summary\",\n",
        "            \"description\": \"Combine the news articles summaries in a JSON format.\",\n",
        "            \"parameters\": {\n",
        "                \"type\": \"object\",\n",
        "                \"properties\": {\n",
        "                    \"summary_line\": {\n",
        "                        \"type\": \"string\",\n",
        "                        \"description\": (\"Based on the list of summaries given, combine the summary_line from list of summaries interms of \"\n",
        "                                        \"correleation with stock price and impact. Do not include its strength or weaknesses or threats or anything about the performance. \"\n",
        "                                        \"Do not miss any key infromation that is useful for the user to decide stock performance.\")\n",
        "                    },\n",
        "                    \"Strengths\": {\n",
        "                        \"type\": \"string\",\n",
        "                        \"description\": (\"Based on the list of summaries given, combine the information of strengths and provide top 4 strengths. \"\n",
        "                                        \"Do not just combine them as string format but summarize on strengths. If there are no strengths, return 'NONE'. \"\n",
        "                                        \"Provide them as 4 bullet points separated by new line.\")\n",
        "                    },\n",
        "                    \"Weaknesses\": {\n",
        "                        \"type\": \"string\",\n",
        "                        \"description\": (\"Based on the list of summaries given, combine the information of weaknesses and provide top 4  weaknesses. \"\n",
        "                                        \"Do not just combine them as string format but summarize on weaknesses. Provide them as 4 bullet points separated by new line. \"\n",
        "                                        \"If there are no weaknesses, return 'NONE'.\")\n",
        "                    },\n",
        "                    \"Opportunities\": {\n",
        "                        \"type\": \"string\",\n",
        "                        \"description\": (\"Based on the list of summaries given, combine the information of opportunities and provide top 4 opportunities. \"\n",
        "                                        \"Do not just combine them as string format but summarize on opportunities. Provide them as 4 bullet points separated by new line. \"\n",
        "                                        \"If there are no opportunities, return 'NONE'.\")\n",
        "                    },\n",
        "                    \"Threats\": {\n",
        "                        \"type\": \"string\",\n",
        "                        \"description\": (\"Based on the list of summaries given, combine the information of threats and provide top 4 threats. \"\n",
        "                                        \"Do not just combine them as string format but summarize on threats. Provide them as 4 bullet points separated by new line.\"\n",
        "                                        \"If there are no threats, return 'NONE'.\")\n",
        "                    }\n",
        "                }\n",
        "            }\n",
        "        }\n",
        "]\n",
        "\n",
        "# function for sentiment analysis\n",
        "sentiment_analysis_function = [\n",
        "    {\n",
        "        \"name\": \"Provide_news_article_sentiment\",\n",
        "        \"description\": \"Provide the news article sentiment of the stock news in a JSON format.\",\n",
        "        \"parameters\": {\n",
        "            \"type\": \"object\",\n",
        "            \"properties\": {\n",
        "                \"sentiment\": {\n",
        "                    \"type\": \"string\",\n",
        "                    \"description\": f\"{sentiment_analysis_prompt}\"\n",
        "                }\n",
        "            }\n",
        "        }\n",
        "    }\n",
        "]"
      ]
    },
    {
      "cell_type": "code",
      "execution_count": 18,
      "metadata": {
        "id": "C3GVriDCKj-y"
      },
      "outputs": [],
      "source": [
        "# Code for fetching list of articles\n",
        "with open(articles_data_path, \"r\") as file:\n",
        "    json_data = file.read()\n",
        "data = json.loads(json_data)"
      ]
    },
    {
      "cell_type": "code",
      "execution_count": 19,
      "metadata": {
        "id": "lw6krcoI9bJO"
      },
      "outputs": [],
      "source": [
        "# Code for printing number of articles for each\n",
        "# Extract information based on ticker name\n",
        "for company in data[\"companies\"]:\n",
        "    if company[\"ticker\"] == current_ticker:\n",
        "        print(\"Name:\", company[\"name\"])\n",
        "        for article in company[\"articles\"]:\n",
        "            print(\"Date:\", article[\"date\"])\n",
        "            print(\"URL:\", article[\"url\"])\n",
        "            print(\"Content:\", len(article[\"content\"]))"
      ]
    },
    {
      "cell_type": "code",
      "execution_count": 21,
      "metadata": {
        "id": "t1Y7RI3WOqmu"
      },
      "outputs": [],
      "source": [
        "# Summarizes all news articles for a particular stock\n",
        "def summarize_all_news_articles(prompt, function):\n",
        "    summaries = []\n",
        "\n",
        "    for company in data[\"companies\"]:\n",
        "        if company[\"ticker\"] == current_ticker:\n",
        "            print(\"Name:\", company[\"name\"])\n",
        "            for article in company[\"articles\"]:\n",
        "                messages=[{\"role\": \"system\", \"content\": prompt}]\n",
        "                print(\"Date:\", article[\"date\"])\n",
        "                print(\"URL:\", article[\"url\"])\n",
        "                print(\"Content:\", len(article[\"content\"]))\n",
        "\n",
        "                client = OpenAI()\n",
        "                messages.append({\"role\":\"user\",\"content\":article[\"content\"]})\n",
        "                completion = client.chat.completions.create(\n",
        "                  model=\"gpt-3.5-turbo\",\n",
        "                  messages=messages,\n",
        "                  functions = function,\n",
        "                  function_call='auto'\n",
        "                )\n",
        "                print(\"Summarized one news article.\")\n",
        "\n",
        "                args = completion.choices[0].message.function_call.arguments\n",
        "                try:\n",
        "                    output = json.loads(args)\n",
        "                    summaries.append(output)\n",
        "                except:\n",
        "                    print (\"Incorrect JSON format returned.\")\n",
        "                    time.sleep(10)\n",
        "\n",
        "    return summaries"
      ]
    },
    {
      "cell_type": "code",
      "execution_count": 22,
      "metadata": {
        "id": "H13Z0hSGu-ye"
      },
      "outputs": [],
      "source": [
        "# Function to combine all news articles\n",
        "def combine_all_articles(prompt_to_combine, final_prompt, function):\n",
        "    client = OpenAI()\n",
        "    messages=[{\"role\": \"user\", \"content\": prompt_to_combine}]\n",
        "    messages.append({\"role\":\"user\",\"content\":f\" {summaries}\"})\n",
        "    completion = client.chat.completions.create(\n",
        "        model=\"gpt-3.5-turbo\",\n",
        "        messages=messages\n",
        "      )\n",
        "\n",
        "    combined_summary = completion.choices[0].message.content\n",
        "    print(len(combined_summary))\n",
        "\n",
        "    messages=[{\"role\": \"user\", \"content\": final_prompt}]\n",
        "    messages.append({\"role\":\"user\",\"content\": f\" {combined_summary}\"})\n",
        "\n",
        "    completion = client.chat.completions.create(\n",
        "        model=\"gpt-3.5-turbo\",\n",
        "        messages=messages,\n",
        "        functions = function,\n",
        "        function_call='auto'\n",
        "      )\n",
        "\n",
        "    args = completion.choices[0].message.function_call.arguments\n",
        "\n",
        "    try:\n",
        "        output = ast.literal_eval(args)\n",
        "    except:\n",
        "        output = json.loads(args)\n",
        "    return {current_ticker:output}"
      ]
    },
    {
      "cell_type": "code",
      "execution_count": 27,
      "metadata": {
        "colab": {
          "base_uri": "https://localhost:8080/"
        },
        "id": "E2KXuWrfTb_K",
        "outputId": "8c8e734e-b1f5-429a-a4ca-614d1d34aa6c"
      },
      "outputs": [
        {
          "name": "stdout",
          "output_type": "stream",
          "text": [
            "Name: Beyond Meat\n",
            "Date: 2024-04-18\n",
            "URL: https://finance.yahoo.com/news/beyond-meat-revamped-burger-hits-095903265.html\n",
            "Content: 2802\n",
            "Summarized one news article.\n",
            "Date: 2024-04-15\n",
            "URL: https://finance.yahoo.com/news/investors-concerned-beyond-meats-loss-080000246.html\n",
            "Content: 2591\n",
            "Summarized one news article.\n",
            "Date: 2024-04-02\n",
            "URL: https://finance.yahoo.com/news/50-off-high-time-buy-131900875.html\n",
            "Content: 2976\n",
            "Summarized one news article.\n",
            "Date: 2024-04-14\n",
            "URL: https://finance.yahoo.com/news/3-reasons-avoid-beyond-meat-134500632.html\n",
            "Content: 2733\n",
            "Summarized one news article.\n",
            "Date: 2024-04-18\n",
            "URL: https://finance.yahoo.com/news/beyond-iv-fourth-generation-beyond-130000321.html\n",
            "Content: 2760\n",
            "Summarized one news article.\n",
            "Date: 2024-03-07\n",
            "URL: https://finance.yahoo.com/news/beyond-meats-biggest-problem-just-121700739.html\n",
            "Content: 4464\n",
            "Summarized one news article.\n",
            "Date: 2024-03-28\n",
            "URL: https://finance.yahoo.com/video/beyond-meat-developed-unassailable-health-211155601.html\n",
            "Content: 1033\n",
            "Summarized one news article.\n",
            "Date: 2024-03-28\n",
            "URL: https://finance.yahoo.com/news/why-beyond-meat-stock-skyrocketed-171347038.html\n",
            "Content: 2714\n",
            "Summarized one news article.\n",
            "Date: 2024-03-28\n",
            "URL: https://finance.yahoo.com/news/beyond-meat-unveils-expanded-line-130000009.html\n",
            "Content: 2715\n",
            "Summarized one news article.\n"
          ]
        }
      ],
      "source": [
        "summaries = summarize_all_news_articles(news_articles_prompt, news_article_summarizer_function)"
      ]
    },
    {
      "cell_type": "code",
      "execution_count": 31,
      "metadata": {
        "colab": {
          "base_uri": "https://localhost:8080/"
        },
        "id": "-p__5ZcVaotP",
        "outputId": "3ca72a72-e31a-4b9c-b558-732255a4e1e2"
      },
      "outputs": [
        {
          "name": "stdout",
          "output_type": "stream",
          "text": [
            "[{'summary_line': \"Beyond Meat launches Beyond IV Burger and Beef in grocery stores nationwide, focusing on taste and nutrition. The company aims to shift consumers' perception of plant-based meats with this new product launch.\", 'Strengths': '1. Leading the charge in plant-based meat category\\n2. Listening to consumer feedback and delivering what they are looking for\\n3. Innovation in product formulation to enhance health profile', 'Weaknesses': '1. Higher price tag due to premiumization of the product', 'Opportunities': \"1. Potential for others in the industry to follow Beyond Meat's lead in cleaner ingredients and healthier product offerings\", 'Threats': '1. Competition from other plant-based meat companies advertising cleaner ingredients and healthier options'}, {'summary_line': \"Beyond Meat (NASDAQ: BYND) stock has experienced a significant decline from its 2019 high, with shares down 97%. Despite recent progress, concerns about the company's future remain.\", 'Strengths': '1. NONE', 'Weaknesses': '1. Declining sales and steep losses 2. Widened net loss and negative gross margin 3. Expected revenue decline for 2024', 'Opportunities': '1. Price increases and new product launches 2. Cost-cutting measures to improve profitability', 'Threats': '1. Losing market share to competitors in the meat substitute industry'}, {'summary_line': 'Beyond Meat (NASDAQ: BYND) stock is trading at about half of their recent highs, facing challenges in the U.S. market but seeing growth internationally and planning aggressive restructuring for profitability in 2024.', 'Strengths': '1. NONE', 'Weaknesses': '1. Not profitable on a gross basis 2. Slumping demand following pandemic-era sales spike 3. Heavy discounting of products', 'Opportunities': '1. Aggressive restructuring program for profitability 2. Growing demand in Europe 3. Stabilizing earnings potential with reduced inventory levels', 'Threats': '1. Risk associated with the business due to lack of profitability 2. Uncertainty in sales channels in the U.S. market 3. Cost inefficiencies in product manufacturing'}, {'summary_line': \"Beyond Meat's stock price has fallen over 50% in the past year and is 95% below its pandemic-era highs. Despite being a discounted stock, there are reasons to stay away from investing in Beyond Meat at the moment due to lack of control over its destiny, gross profit slump, and high risk associated with the restructuring plan.\", 'Strengths': '1. NONE', 'Weaknesses': '1. Lack of control over its destiny as it is being pushed around by wider industry forces. 2. Gross profit slump due to declining sales volumes and pricing pressures. 3. High risk associated with the restructuring plan and smaller growth ambitions going forward.', 'Opportunities': '1. NONE', 'Threats': '1. Losses projected for the third consecutive year in 2024. 2. Uncertainty and volatility in growth results. 3. Difficulty in regaining market share and profitability in the plant-based meat industry.'}, {'summary_line': 'Beyond Meat launches fourth generation Beyond Burger and Beyond Beef at grocery stores nationwide, featuring 21g of plant-based protein and made with avocado oil for heart-healthy fats and lower saturated fat. Products have received positive feedback and preference in taste testing.', 'Strengths': '1. Made with heart-healthy avocado oil\\n2. Increased protein content to 21g per serving\\n3. Simplified ingredient list', 'Weaknesses': '1. None', 'Opportunities': '1. Growing demand for plant-based meat products\\n2. Expansion into new markets\\n3. Collaborations with other food brands', 'Threats': '1. Competition from other plant-based meat companies\\n2. Potential supply chain disruptions\\n3. Fluctuations in ingredient prices'}, {'summary_line': \"Beyond Meat (NASDAQ: BYND) reported strong fourth-quarter 2023 earnings with a 50% gain in shares, but the stock gave back much of the gain later. Sales fell by 7.8% in Q4 and 18% for the full year. Volume declined significantly in domestic markets despite lower prices. The company's products may have become less exciting to consumers, raising long-term sustainability concerns. Beyond Meat's management team remains optimistic, but investors should approach with caution.\", 'Strengths': '1. Strong fourth-quarter earnings performance', 'Weaknesses': \"1. Sales decline in Q4 and for the full year\\n2. Significant volume decrease in domestic markets\\n3. Sustainability concerns about the company's business model\", 'Opportunities': '1. Potential for innovation in product offerings', 'Threats': '1. Declining demand for Beyond Meat products in both domestic and foreign markets'}, {'summary_line': \"Beyond Meat (BYND) launches an updated and expanded selection of its Crumbles product line certified by the American Heart Association's Heart-Check program and the American Diabetes Association's Better Choices for Life program. CEO Ethan Brown discusses the company's focus on health-oriented products and addressing misconceptions about plant-based foods.\", 'Strengths': '1. Certified by reputable health organizations 2. Focus on health-oriented products 3. Support from nutrition and medical communities', 'Weaknesses': '1. Perception of plant-based foods as highly processed', 'Opportunities': '1. Market growth potential for health-conscious consumers', 'Threats': '1. Competition from incumbent industry'}, {'summary_line': 'Shares of Beyond Meat (NASDAQ: BYND) surged 44.1% following its fourth-quarter report, which showed mixed results and outlined a solid plan for the future.', 'Strengths': \"1. Management's plan to achieve profit growth and reduce operating expenses. 2. Introducing pricing changes to support margin expansion. 3. Short squeeze driving stock price surge.\", 'Weaknesses': '1. Decline in net revenue year over year. 2. Significant net loss per share. 3. Discontinuation of Beyond Meat Jerky products due to low demand.', 'Opportunities': '1. Cutting a minimum of $70 million from operating budget this year. 2. Introducing changes in pricing strategies to drive profitability. 3. Potential for monster returns in other top stocks identified by The Motley Fool Stock Advisor analyst team.', 'Threats': '1. Need for effective execution of the plan to reach profitability. 2. Volatility in stock price due to short squeeze. 3. Competition in the plant-based meat substitutes market.'}, {'summary_line': \"Shares of Beyond Meat (NASDAQ: BYND) surged by as much as 61.2% in early trading following its fourth-quarter report. Despite mixed results, management's plan for future profitability and short squeeze drove investor enthusiasm.\", 'Strengths': \"1. Management's plan to achieve profit growth and reduce operating expenses. 2. Introduction of pricing changes to support margin expansion. 3. Short squeeze fueled stock price surge.\", 'Weaknesses': '1. Net revenue declined by 7.8% year over year. 2. Net loss of $155.1 million in the quarter. 3. Discontinuation of Beyond Meat Jerky products due to low demand.', 'Opportunities': '1. Cutting a minimum of $70 million from operating budget this year. 2. Introducing pricing changes to move towards profitability. 3. Potential for significant returns if management successfully executes the plan for reaching profitability.', 'Threats': '1. Need for successful execution of the plan for reaching profitability. 2. Market volatility and competition in the plant-based meat industry. 3. Uncertainty in consumer demand for plant-based meat products.'}]\n"
          ]
        }
      ],
      "source": [
        "print(summaries)"
      ]
    },
    {
      "cell_type": "code",
      "execution_count": 32,
      "metadata": {
        "colab": {
          "base_uri": "https://localhost:8080/"
        },
        "id": "gM5m7zjc11eC",
        "outputId": "d7f8150f-8129-46d0-a218-d2233d533019"
      },
      "outputs": [
        {
          "name": "stdout",
          "output_type": "stream",
          "text": [
            "2402\n"
          ]
        }
      ],
      "source": [
        "final_summary = combine_all_articles(prompt_to_combine, final_prompt, combine_stock_news)"
      ]
    },
    {
      "cell_type": "code",
      "execution_count": 37,
      "metadata": {
        "id": "GPmRr6srvALo"
      },
      "outputs": [],
      "source": [
        "file_name = f\"combined_summaries_expert_{current_ticker}.json\"\n",
        "\n",
        "with open(file_name, \"w\") as file:\n",
        "    json.dump(final_summary, file)"
      ]
    },
    {
      "cell_type": "code",
      "execution_count": 33,
      "metadata": {
        "colab": {
          "base_uri": "https://localhost:8080/"
        },
        "id": "tc6-Y9SnX5ht",
        "outputId": "4a05e660-15d2-49a1-b3ef-d865fe27b572"
      },
      "outputs": [
        {
          "name": "stdout",
          "output_type": "stream",
          "text": [
            "Beyond Meat launches Beyond IV Burger and Beef in grocery stores nationwide, focusing on taste and nutrition. The company aims to shift consumers' perception of plant-based meats with this new product launch.\n",
            "\n",
            "STRENGTHS\n",
            "1. Leading the charge in plant-based meat category\n",
            "2. Listening to consumer feedback and delivering what they are looking for\n",
            "3. Innovation in product formulation to enhance health profile\n",
            "\n",
            "WEAKNESSES\n",
            "1. Higher price tag due to premiumization of the product\n",
            "\n",
            "THREATS\n",
            "1. Competition from other plant-based meat companies advertising cleaner ingredients and healthier options\n",
            "\n",
            "OPPORTUNITIES\n",
            "1. Potential for others in the industry to follow Beyond Meat's lead in cleaner ingredients and healthier product offerings\n",
            "--------------------------------------\n",
            "Beyond Meat (NASDAQ: BYND) stock has experienced a significant decline from its 2019 high, with shares down 97%. Despite recent progress, concerns about the company's future remain.\n",
            "\n",
            "STRENGTHS\n",
            "1. NONE\n",
            "\n",
            "WEAKNESSES\n",
            "1. Declining sales and steep losses 2. Widened net loss and negative gross margin 3. Expected revenue decline for 2024\n",
            "\n",
            "THREATS\n",
            "1. Losing market share to competitors in the meat substitute industry\n",
            "\n",
            "OPPORTUNITIES\n",
            "1. Price increases and new product launches 2. Cost-cutting measures to improve profitability\n",
            "--------------------------------------\n",
            "Beyond Meat (NASDAQ: BYND) stock is trading at about half of their recent highs, facing challenges in the U.S. market but seeing growth internationally and planning aggressive restructuring for profitability in 2024.\n",
            "\n",
            "STRENGTHS\n",
            "1. NONE\n",
            "\n",
            "WEAKNESSES\n",
            "1. Not profitable on a gross basis 2. Slumping demand following pandemic-era sales spike 3. Heavy discounting of products\n",
            "\n",
            "THREATS\n",
            "1. Risk associated with the business due to lack of profitability 2. Uncertainty in sales channels in the U.S. market 3. Cost inefficiencies in product manufacturing\n",
            "\n",
            "OPPORTUNITIES\n",
            "1. Aggressive restructuring program for profitability 2. Growing demand in Europe 3. Stabilizing earnings potential with reduced inventory levels\n",
            "--------------------------------------\n",
            "Beyond Meat's stock price has fallen over 50% in the past year and is 95% below its pandemic-era highs. Despite being a discounted stock, there are reasons to stay away from investing in Beyond Meat at the moment due to lack of control over its destiny, gross profit slump, and high risk associated with the restructuring plan.\n",
            "\n",
            "STRENGTHS\n",
            "1. NONE\n",
            "\n",
            "WEAKNESSES\n",
            "1. Lack of control over its destiny as it is being pushed around by wider industry forces. 2. Gross profit slump due to declining sales volumes and pricing pressures. 3. High risk associated with the restructuring plan and smaller growth ambitions going forward.\n",
            "\n",
            "THREATS\n",
            "1. Losses projected for the third consecutive year in 2024. 2. Uncertainty and volatility in growth results. 3. Difficulty in regaining market share and profitability in the plant-based meat industry.\n",
            "\n",
            "OPPORTUNITIES\n",
            "1. NONE\n",
            "--------------------------------------\n",
            "Beyond Meat launches fourth generation Beyond Burger and Beyond Beef at grocery stores nationwide, featuring 21g of plant-based protein and made with avocado oil for heart-healthy fats and lower saturated fat. Products have received positive feedback and preference in taste testing.\n",
            "\n",
            "STRENGTHS\n",
            "1. Made with heart-healthy avocado oil\n",
            "2. Increased protein content to 21g per serving\n",
            "3. Simplified ingredient list\n",
            "\n",
            "WEAKNESSES\n",
            "1. None\n",
            "\n",
            "THREATS\n",
            "1. Competition from other plant-based meat companies\n",
            "2. Potential supply chain disruptions\n",
            "3. Fluctuations in ingredient prices\n",
            "\n",
            "OPPORTUNITIES\n",
            "1. Growing demand for plant-based meat products\n",
            "2. Expansion into new markets\n",
            "3. Collaborations with other food brands\n",
            "--------------------------------------\n",
            "Beyond Meat (NASDAQ: BYND) reported strong fourth-quarter 2023 earnings with a 50% gain in shares, but the stock gave back much of the gain later. Sales fell by 7.8% in Q4 and 18% for the full year. Volume declined significantly in domestic markets despite lower prices. The company's products may have become less exciting to consumers, raising long-term sustainability concerns. Beyond Meat's management team remains optimistic, but investors should approach with caution.\n",
            "\n",
            "STRENGTHS\n",
            "1. Strong fourth-quarter earnings performance\n",
            "\n",
            "WEAKNESSES\n",
            "1. Sales decline in Q4 and for the full year\n",
            "2. Significant volume decrease in domestic markets\n",
            "3. Sustainability concerns about the company's business model\n",
            "\n",
            "THREATS\n",
            "1. Declining demand for Beyond Meat products in both domestic and foreign markets\n",
            "\n",
            "OPPORTUNITIES\n",
            "1. Potential for innovation in product offerings\n",
            "--------------------------------------\n",
            "Beyond Meat (BYND) launches an updated and expanded selection of its Crumbles product line certified by the American Heart Association's Heart-Check program and the American Diabetes Association's Better Choices for Life program. CEO Ethan Brown discusses the company's focus on health-oriented products and addressing misconceptions about plant-based foods.\n",
            "\n",
            "STRENGTHS\n",
            "1. Certified by reputable health organizations 2. Focus on health-oriented products 3. Support from nutrition and medical communities\n",
            "\n",
            "WEAKNESSES\n",
            "1. Perception of plant-based foods as highly processed\n",
            "\n",
            "THREATS\n",
            "1. Competition from incumbent industry\n",
            "\n",
            "OPPORTUNITIES\n",
            "1. Market growth potential for health-conscious consumers\n",
            "--------------------------------------\n",
            "Shares of Beyond Meat (NASDAQ: BYND) surged 44.1% following its fourth-quarter report, which showed mixed results and outlined a solid plan for the future.\n",
            "\n",
            "STRENGTHS\n",
            "1. Management's plan to achieve profit growth and reduce operating expenses. 2. Introducing pricing changes to support margin expansion. 3. Short squeeze driving stock price surge.\n",
            "\n",
            "WEAKNESSES\n",
            "1. Decline in net revenue year over year. 2. Significant net loss per share. 3. Discontinuation of Beyond Meat Jerky products due to low demand.\n",
            "\n",
            "THREATS\n",
            "1. Need for effective execution of the plan to reach profitability. 2. Volatility in stock price due to short squeeze. 3. Competition in the plant-based meat substitutes market.\n",
            "\n",
            "OPPORTUNITIES\n",
            "1. Cutting a minimum of $70 million from operating budget this year. 2. Introducing changes in pricing strategies to drive profitability. 3. Potential for monster returns in other top stocks identified by The Motley Fool Stock Advisor analyst team.\n",
            "--------------------------------------\n",
            "Shares of Beyond Meat (NASDAQ: BYND) surged by as much as 61.2% in early trading following its fourth-quarter report. Despite mixed results, management's plan for future profitability and short squeeze drove investor enthusiasm.\n",
            "\n",
            "STRENGTHS\n",
            "1. Management's plan to achieve profit growth and reduce operating expenses. 2. Introduction of pricing changes to support margin expansion. 3. Short squeeze fueled stock price surge.\n",
            "\n",
            "WEAKNESSES\n",
            "1. Net revenue declined by 7.8% year over year. 2. Net loss of $155.1 million in the quarter. 3. Discontinuation of Beyond Meat Jerky products due to low demand.\n",
            "\n",
            "THREATS\n",
            "1. Need for successful execution of the plan for reaching profitability. 2. Market volatility and competition in the plant-based meat industry. 3. Uncertainty in consumer demand for plant-based meat products.\n",
            "\n",
            "OPPORTUNITIES\n",
            "1. Cutting a minimum of $70 million from operating budget this year. 2. Introducing pricing changes to move towards profitability. 3. Potential for significant returns if management successfully executes the plan for reaching profitability.\n",
            "--------------------------------------\n"
          ]
        }
      ],
      "source": [
        "for summary in summaries:\n",
        "  print(summary[\"summary_line\"])\n",
        "  print(\"\\nSTRENGTHS\")\n",
        "  print(summary[\"Strengths\"])\n",
        "  print(\"\\nWEAKNESSES\")\n",
        "  print(summary[\"Weaknesses\"])\n",
        "  print(\"\\nTHREATS\")\n",
        "  print(summary[\"Threats\"])\n",
        "  print(\"\\nOPPORTUNITIES\")\n",
        "  print(summary[\"Opportunities\"])\n",
        "  print(\"--------------------------------------\")"
      ]
    },
    {
      "cell_type": "code",
      "execution_count": 34,
      "metadata": {
        "colab": {
          "base_uri": "https://localhost:8080/"
        },
        "id": "0UE1X2O-iLoL",
        "outputId": "d2996e4c-5b36-47d5-fa0a-9f684b1985c1"
      },
      "outputs": [
        {
          "name": "stdout",
          "output_type": "stream",
          "text": [
            "Beyond Meat is facing challenges in the U.S. market with declining sales and net loss, despite positive feedback on its products and strong fourth-quarter earnings. The company's stock has surged following its recent report but is still struggling with declining revenue and profitability concerns.\n",
            "\n",
            "STRENGTHS\n",
            "- Continuous innovation in products\n",
            "- Positive feedback on updated products\n",
            "- Strong fourth-quarter earnings performance\n",
            "- Solid plan for future profitability\n",
            "\n",
            "WEAKNESSES\n",
            "- Declining sales and net loss\n",
            "- Challenges in the U.S. market\n",
            "- Discontinuation of certain products\n",
            "- Stock price decline\n",
            "\n",
            "THREATS\n",
            "- Competition from other plant-based meat companies\n",
            "- Risk of losses and market share decline\n",
            "- Volatility in stock price and consumer demand fluctuations\n",
            "\n",
            "OPPORTUNITIES\n",
            "- Growth in plant-based meat industry\n",
            "- Achieving profitability through cost-cutting\n",
            "- Potential for significant returns with successful execution of profitability plan\n",
            "--------------------------------------\n"
          ]
        }
      ],
      "source": [
        "summary = final_summary[current_ticker]\n",
        "print(summary[\"summary_line\"])\n",
        "print(\"\\nSTRENGTHS\")\n",
        "print(summary[\"Strengths\"])\n",
        "print(\"\\nWEAKNESSES\")\n",
        "print(summary[\"Weaknesses\"])\n",
        "print(\"\\nTHREATS\")\n",
        "print(summary[\"Threats\"])\n",
        "print(\"\\nOPPORTUNITIES\")\n",
        "print(summary[\"Opportunities\"])\n",
        "print(\"--------------------------------------\")"
      ]
    },
    {
      "cell_type": "code",
      "execution_count": 35,
      "metadata": {
        "id": "GxCAjwTmhV9d"
      },
      "outputs": [],
      "source": [
        "def summarize_single_article(prompt, function, content):\n",
        "    start_time = time.time()\n",
        "    summaries = []\n",
        "    messages=[{\"role\": \"system\", \"content\": prompt}]\n",
        "    client = OpenAI()\n",
        "    messages.append({\"role\":\"user\",\"content\":article[\"content\"]})\n",
        "    completion = client.chat.completions.create(\n",
        "      model=\"gpt-3.5-turbo\",\n",
        "      messages=messages,\n",
        "      functions = function,\n",
        "      function_call='auto'\n",
        "    )\n",
        "    print(\"Summarized one news article.\")\n",
        "\n",
        "    args = completion.choices[0].message.function_call.arguments\n",
        "    try:\n",
        "        output = json.loads(args)\n",
        "        summaries.append(output)\n",
        "    except:\n",
        "        print (\"Incorrect JSON format returned.\")\n",
        "        time.sleep(10)\n",
        "    end_time = time.time()\n",
        "    return summaries, end_time-start_time"
      ]
    },
    {
      "cell_type": "code",
      "execution_count": 52,
      "metadata": {
        "colab": {
          "base_uri": "https://localhost:8080/"
        },
        "id": "LGs2wuncWfCQ",
        "outputId": "3f58354f-80a3-4934-d8db-75785a6b8567"
      },
      "outputs": [
        {
          "name": "stdout",
          "output_type": "stream",
          "text": [
            "Name: NVIDIA\n",
            "Date: 2024-04-06\n",
            "URL: https://markets.businessinsider.com/news/stocks/nvidia-stock-price-prediction-artificial-intelligence-gpu-earnings-forecast-rally-2024-4\n",
            "Content: 3793\n",
            "Summarized one news article.\n",
            "2.32893443107605\n",
            "Date: 2024-03-12\n",
            "URL: https://www.forbes.com/sites/investor-hub/article/will-nvidia-stock-split-2024/?sh=69af636a49ec\n",
            "Content: 9028\n",
            "Summarized one news article.\n",
            "3.4288365840911865\n",
            "Date: 2024-03-30\n",
            "URL: https://finance.yahoo.com/news/nvidia-stock-amd-stock-wont-122230465.html\n",
            "Content: 1244\n",
            "Summarized one news article.\n",
            "1.4793410301208496\n",
            "Name: Palantir Technologies\n",
            "Date: 2024-03-20\n",
            "URL: https://www.msn.com/en-us/money/markets/bad-news-for-palantir-technologies-inc-stock-this-new-risk-has-been-added/ar-BB1iDv4x\n",
            "Content: 2919\n",
            "Summarized one news article.\n",
            "2.5263571739196777\n",
            "Date: 2024-03-20\n",
            "URL: https://www.tipranks.com/stocks/pltr/risk-factors?utm_source=msn.com&utm_medium=referral#google_vignette\n",
            "Content: 1097\n",
            "Summarized one news article.\n",
            "2.140132188796997\n",
            "Date: 2024-03-30\n",
            "URL: https://www.msn.com/en-us/money/topstocks/palantir-technologies-inc-pltr-is-attracting-investor-attention-here-is-what-you-should-know/ar-AA1njbJS\n",
            "Content: 5527\n",
            "Summarized one news article.\n",
            "3.919431209564209\n",
            "Date: 2024-03-06\n",
            "URL: https://www.barrons.com/articles/palantir-stock-army-titan-contract-70a183e5?adobe_mc=MCMID%3D77390209400787617473083191009587576268%7CMCORGID%3DCB68E4BA55144CAA0A4C98A5%2540AdobeOrg%7CTS%3D1713631471\n",
            "Content: 288\n",
            "Summarized one news article.\n",
            "1.7333507537841797\n",
            "Date: 2024-04-19\n",
            "URL: https://finance.yahoo.com/news/where-palantirs-soaring-stock-10-131500008.html\n",
            "Content: 2730\n",
            "Summarized one news article.\n",
            "3.12605619430542\n",
            "Date: 2024-04-19\n",
            "URL: https://finance.yahoo.com/news/chatgpt-stock-predictions-10-stocks-105638502.html\n",
            "Content: 5707\n",
            "Summarized one news article.\n",
            "1.9789574146270752\n",
            "Name: Duolingo\n",
            "Date: 2024-04-18\n",
            "URL: https://www.investors.com/news/duolingo-joins-sp-midcap-400/?src=A00220\n",
            "Content: 686\n",
            "Summarized one news article.\n",
            "2.739537477493286\n",
            "Date: 2024-04-19\n",
            "URL: https://finance.yahoo.com/news/duolingo-duol-surges-5-3-131500483.html\n",
            "Content: 2049\n",
            "Summarized one news article.\n",
            "2.7399892807006836\n",
            "Date: 2024-04-18\n",
            "URL: https://finance.yahoo.com/m/b2fe4722-2fdf-388d-99c5-e85548297b2f/duolingo-an-ai-play-fluent.html\n",
            "Content: 2861\n",
            "Summarized one news article.\n",
            "3.8538384437561035\n",
            "Date: 2024-04-18\n",
            "URL: https://finance.yahoo.com/news/why-duolingo-duol-stock-soaring-155213962.html\n",
            "Content: 3604\n",
            "Summarized one news article.\n",
            "3.1705803871154785\n",
            "Date: 2024-04-18\n",
            "URL: https://finance.yahoo.com/news/duolingo-inc-duol-declines-more-215018066.html\n",
            "Content: 2732\n",
            "Summarized one news article.\n",
            "3.973355531692505\n",
            "Date: 2024-04-15\n",
            "URL: https://finance.yahoo.com/news/why-duolingo-duol-stock-trading-183304157.html\n",
            "Content: 2796\n",
            "Summarized one news article.\n",
            "3.036808729171753\n",
            "Date: 2024-04-11\n",
            "URL: https://finance.yahoo.com/news/know-beyond-why-duolingo-inc-130017816.html\n",
            "Content: 5328\n",
            "Summarized one news article.\n",
            "3.828049898147583\n",
            "Date: 2024-04-11\n",
            "URL: https://finance.yahoo.com/news/duolingo-inc-duol-stock-sinks-214518875.html\n",
            "Content: 2737\n",
            "Summarized one news article.\n",
            "3.9630367755889893\n",
            "Date: 2024-04-18\n",
            "URL: https://finance.yahoo.com/news/heres-why-duolingo-stock-popped-145737894.html\n",
            "Content: 2510\n",
            "Summarized one news article.\n",
            "2.2428245544433594\n",
            "Name: Beyond Meat\n",
            "Date: 2024-04-18\n",
            "URL: https://finance.yahoo.com/news/beyond-meat-revamped-burger-hits-095903265.html\n",
            "Content: 2802\n",
            "Summarized one news article.\n",
            "2.649017810821533\n",
            "Date: 2024-04-15\n",
            "URL: https://finance.yahoo.com/news/investors-concerned-beyond-meats-loss-080000246.html\n",
            "Content: 2591\n",
            "Summarized one news article.\n",
            "3.9290764331817627\n",
            "Date: 2024-04-02\n",
            "URL: https://finance.yahoo.com/news/50-off-high-time-buy-131900875.html\n",
            "Content: 2976\n",
            "Summarized one news article.\n",
            "2.984557628631592\n",
            "Date: 2024-04-14\n",
            "URL: https://finance.yahoo.com/news/3-reasons-avoid-beyond-meat-134500632.html\n",
            "Content: 2733\n",
            "Summarized one news article.\n",
            "2.7861745357513428\n",
            "Date: 2024-04-18\n",
            "URL: https://finance.yahoo.com/news/beyond-iv-fourth-generation-beyond-130000321.html\n",
            "Content: 2760\n",
            "Summarized one news article.\n",
            "2.7349629402160645\n",
            "Date: 2024-03-07\n",
            "URL: https://finance.yahoo.com/news/beyond-meats-biggest-problem-just-121700739.html\n",
            "Content: 4464\n",
            "Summarized one news article.\n",
            "2.8325676918029785\n",
            "Date: 2024-03-28\n",
            "URL: https://finance.yahoo.com/video/beyond-meat-developed-unassailable-health-211155601.html\n",
            "Content: 1033\n",
            "Summarized one news article.\n",
            "2.0248520374298096\n",
            "Date: 2024-03-28\n",
            "URL: https://finance.yahoo.com/news/why-beyond-meat-stock-skyrocketed-171347038.html\n",
            "Content: 2714\n",
            "Summarized one news article.\n",
            "4.752923488616943\n",
            "Date: 2024-03-28\n",
            "URL: https://finance.yahoo.com/news/beyond-meat-unveils-expanded-line-130000009.html\n",
            "Content: 2715\n",
            "Summarized one news article.\n",
            "1.672802209854126\n",
            "Name: Advanced Micro Devices AMD\n",
            "Date: 2024-04-05\n",
            "URL: https://www.msn.com/en-us/money/markets/amd-stock-drops-amid-rate-uncertainty-and-valuation-reassessment-key-level-to-watch/ar-BB1l6dJe\n",
            "Content: 1703\n",
            "Summarized one news article.\n",
            "2.5676991939544678\n",
            "Date: 2024-03-23\n",
            "URL: https://www.msn.com/en-us/money/other/amd-stock-is-down-15-from-its-52-week-highs-and-here-s-why-you-should-buy-it/ar-BB1kLtUQ\n",
            "Content: 1696\n",
            "Summarized one news article.\n",
            "7.769960403442383\n",
            "Date: 2024-04-21\n",
            "URL: https://www.msn.com/en-us/money/markets/amd-s-stock-has-been-in-absolute-freefall-but-its-earnings-could-spark-a-chip-sector-rebound/ar-AA1nfKAy\n",
            "Content: 1269\n",
            "Summarized one news article.\n",
            "1.9565389156341553\n"
          ]
        }
      ],
      "source": [
        "news_articles_prompt = \"You are stock news analyzer. Store key content of the news that impacts profit and loss of the company, Strengths, weaknesses, opportunities, threats.\"\n",
        "for company in data[\"companies\"]:\n",
        "   print(\"Name:\", company[\"name\"])\n",
        "   for article in company[\"articles\"]:\n",
        "      print(\"Date:\", article[\"date\"])\n",
        "      print(\"URL:\", article[\"url\"])\n",
        "      print(\"Content:\", len(article[\"content\"]))\n",
        "      _, time_taken = summarize_single_article(news_articles_prompt, news_article_summarizer_function, len(article[\"content\"]))\n",
        "      print(time_taken)"
      ]
    },
    {
      "cell_type": "code",
      "execution_count": 56,
      "metadata": {
        "colab": {
          "base_uri": "https://localhost:8080/",
          "height": 619
        },
        "id": "zL6MwOz9bIy-",
        "outputId": "9c037ca5-e78a-4434-a47b-fe7981ad6b91"
      },
      "outputs": [
        {
          "name": "stdout",
          "output_type": "stream",
          "text": [
            "30\n",
            "30\n"
          ]
        },
        {
          "data": {
            "image/png": "[encoded data removed]",
            "text/plain": [
              "<Figure size 1200x600 with 1 Axes>"
            ]
          },
          "metadata": {},
          "output_type": "display_data"
        }
      ],
      "source": [
        "import matplotlib.pyplot as plt\n",
        "\n",
        "# Your data\n",
        "content_length = [3793, 9028, 1244, 2919, 1097, 5527, 288, 2730, 5707, 686, 2049, 2861, 3604, 2732, 2796, 5328, 2737, 2510, 2802, 2591, 2976, 2733, 2760, 4464, 1033, 2714, 2715, 1703, 1696, 1296]\n",
        "times = [2.32, 3.42, 1.47, 2.52, 2.14, 3.91, 1.73, 3.12, 1.97,  2.73, 3.85, 3.17, 3.97, 3.03, 3.82, 3.96, 2.24, 2.64, 3.92, 3.93, 2.98, 2.78, 2.73, 2.83, 2.02, 4.75, 1.67, 2.56, 7.76, 1.95]\n",
        "print(len(content_length))\n",
        "print(len(times))\n",
        "# Plotting the graph\n",
        "plt.figure(figsize=(12, 6))\n",
        "plt.scatter(content_length, times, color='blue', label='Times')\n",
        "plt.xlabel('Content Length')\n",
        "plt.ylabel('Times')\n",
        "plt.title('Content Length vs. Times')\n",
        "plt.legend()\n",
        "plt.grid(True)\n",
        "plt.show()"
      ]
    },
    {
      "cell_type": "markdown",
      "metadata": {
        "id": "ePFWA3_32BYe"
      },
      "source": [
        "Sentiment Analysis"
      ]
    },
    {
      "cell_type": "code",
      "execution_count": 30,
      "metadata": {
        "id": "FvGTImN8inN0"
      },
      "outputs": [],
      "source": [
        "def test_sentiment_analysis():\n",
        "\n",
        "    sentiment_analysis_actual = []\n",
        "    sentiment_analysis_predicted = []\n",
        "\n",
        "    count = 0\n",
        "\n",
        "    for company in data[\"companies\"]:\n",
        "      print(\"Name:\", company[\"name\"])\n",
        "      content_count = 0\n",
        "      for article in company[\"articles\"]:\n",
        "          messages=[{\"role\": \"system\", \"content\": prompt}]\n",
        "          messages.append({\"role\":\"user\", \"content\":article[\"content\"]})\n",
        "          content_count += len(article[\"content\"])\n",
        "          sentiment_analysis_actual.append(article[\"stock_news_sentiment\"])\n",
        "          client = OpenAI()\n",
        "          completion = client.chat.completions.create(\n",
        "            model=\"gpt-3.5-turbo\",\n",
        "            messages = messages,\n",
        "            temperature=1,\n",
        "            functions = function,\n",
        "            function_call='auto'\n",
        "          )\n",
        "\n",
        "          # count = count + 1\n",
        "          # print(f\"Article number processed: {count}\")\n",
        "\n",
        "          args = completion.choices[0].message.function_call.arguments\n",
        "          try:\n",
        "              output = json.loads(args)\n",
        "              # print(output)\n",
        "              sentiment_analysis_predicted.append(output['sentiment'])\n",
        "          except:\n",
        "              print (\"Incorrect JSON format returned.\")\n",
        "              time.sleep(10)\n",
        "      print(f\"Total Content length: {content_count}\")\n",
        "    return sentiment_analysis_actual, sentiment_analysis_predicted"
      ]
    },
    {
      "cell_type": "code",
      "execution_count": 209,
      "metadata": {
        "colab": {
          "base_uri": "https://localhost:8080/"
        },
        "id": "jXidpGQ7j6cx",
        "outputId": "008c1093-4a73-467c-faf2-0aee108ab908"
      },
      "outputs": [
        {
          "name": "stdout",
          "output_type": "stream",
          "text": [
            "Name: NVIDIA\n",
            "Total Content length: 14065\n",
            "Name: Palantir Technologies\n",
            "Total Content length: 18268\n",
            "Name: Duolingo\n",
            "Total Content length: 25303\n",
            "Name: Beyond Meat\n",
            "Total Content length: 24788\n",
            "Name: Advanced Micro Devices AMD\n",
            "Total Content length: 4668\n",
            "CPU times: user 2.59 s, sys: 18.9 ms, total: 2.6 s\n",
            "Wall time: 18.3 s\n"
          ]
        }
      ],
      "source": [
        "%%time\n",
        "sentiment_analysis_actual, sentiment_analysis_predicted = test_sentiment_analysis()"
      ]
    },
    {
      "cell_type": "code",
      "execution_count": 114,
      "metadata": {
        "colab": {
          "base_uri": "https://localhost:8080/",
          "height": 564
        },
        "id": "gTlASLfiqAn3",
        "outputId": "d86468f6-ee90-46b6-9747-1133cb395b9a"
      },
      "outputs": [
        {
          "data": {
            "image/png": "[encoded data removed]",
            "text/plain": [
              "<Figure size 800x600 with 2 Axes>"
            ]
          },
          "metadata": {},
          "output_type": "display_data"
        }
      ],
      "source": [
        "import seaborn as sns\n",
        "from sklearn.metrics import confusion_matrix\n",
        "import matplotlib.pyplot as plt\n",
        "# Actual and predicted lists\n",
        "actual = sentiment_analysis_actual\n",
        "predicted = sentiment_analysis_predicted\n",
        "\n",
        "# Define the categories\n",
        "categories = [\"positive\", \"negative\", \"neutral\"]\n",
        "\n",
        "# Create confusion matrix\n",
        "cm = confusion_matrix(actual, predicted, labels=categories)\n",
        "\n",
        "# Display confusion matrix\n",
        "plt.figure(figsize=(8, 6))\n",
        "sns.heatmap(cm, annot=True, fmt=\"d\", xticklabels=categories, yticklabels=categories, cmap=\"Blues\")\n",
        "plt.xlabel(\"Predicted\")\n",
        "plt.ylabel(\"Actual\")\n",
        "plt.title(\"Confusion Matrix Temp 1\")\n",
        "plt.show()"
      ]
    }
  ],
  "metadata": {
    "colab": {
      "provenance": []
    },
    "kernelspec": {
      "display_name": "Python 3",
      "name": "python3"
    },
    "language_info": {
      "name": "python"
    }
  },
  "nbformat": 4,
  "nbformat_minor": 0
}
