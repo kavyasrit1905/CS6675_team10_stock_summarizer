{
  "cells": [
    {
      "cell_type": "code",
      "execution_count": 51,
      "metadata": {
        "colab": {
          "base_uri": "https://localhost:8080/"
        },
        "id": "IIV8qPpA2GeO",
        "outputId": "0242ca9e-7d57-4d22-d8b0-7533805bb9f3"
      },
      "outputs": [
        {
          "name": "stdout",
          "output_type": "stream",
          "text": [
            "Requirement already satisfied: openai in /usr/local/lib/python3.10/dist-packages (1.16.2)\n",
            "Requirement already satisfied: anyio<5,>=3.5.0 in /usr/local/lib/python3.10/dist-packages (from openai) (3.7.1)\n",
            "Requirement already satisfied: distro<2,>=1.7.0 in /usr/lib/python3/dist-packages (from openai) (1.7.0)\n",
            "Requirement already satisfied: httpx<1,>=0.23.0 in /usr/local/lib/python3.10/dist-packages (from openai) (0.27.0)\n",
            "Requirement already satisfied: pydantic<3,>=1.9.0 in /usr/local/lib/python3.10/dist-packages (from openai) (2.6.4)\n",
            "Requirement already satisfied: sniffio in /usr/local/lib/python3.10/dist-packages (from openai) (1.3.1)\n",
            "Requirement already satisfied: tqdm>4 in /usr/local/lib/python3.10/dist-packages (from openai) (4.66.2)\n",
            "Requirement already satisfied: typing-extensions<5,>=4.7 in /usr/local/lib/python3.10/dist-packages (from openai) (4.10.0)\n",
            "Requirement already satisfied: idna>=2.8 in /usr/local/lib/python3.10/dist-packages (from anyio<5,>=3.5.0->openai) (3.6)\n",
            "Requirement already satisfied: exceptiongroup in /usr/local/lib/python3.10/dist-packages (from anyio<5,>=3.5.0->openai) (1.2.0)\n",
            "Requirement already satisfied: certifi in /usr/local/lib/python3.10/dist-packages (from httpx<1,>=0.23.0->openai) (2024.2.2)\n",
            "Requirement already satisfied: httpcore==1.* in /usr/local/lib/python3.10/dist-packages (from httpx<1,>=0.23.0->openai) (1.0.5)\n",
            "Requirement already satisfied: h11<0.15,>=0.13 in /usr/local/lib/python3.10/dist-packages (from httpcore==1.*->httpx<1,>=0.23.0->openai) (0.14.0)\n",
            "Requirement already satisfied: annotated-types>=0.4.0 in /usr/local/lib/python3.10/dist-packages (from pydantic<3,>=1.9.0->openai) (0.6.0)\n",
            "Requirement already satisfied: pydantic-core==2.16.3 in /usr/local/lib/python3.10/dist-packages (from pydantic<3,>=1.9.0->openai) (2.16.3)\n"
          ]
        }
      ],
      "source": [
        "! pip install --upgrade openai"
      ]
    },
    {
      "cell_type": "code",
      "execution_count": 52,
      "metadata": {
        "id": "Ge469eXqNCR4"
      },
      "outputs": [],
      "source": [
        "# imports\n",
        "import openai\n",
        "import os\n",
        "import json\n",
        "import time\n",
        "import ast\n",
        "from openai import OpenAI"
      ]
    },
    {
      "cell_type": "code",
      "execution_count": 68,
      "metadata": {
        "id": "WkleG-ZI8--p"
      },
      "outputs": [],
      "source": [
        "# constants\n",
        "tickers_list = ['NVDA', 'AMD']\n",
        "articles_data_path = \"/content/stock_summary_data.json\" # TO DO: upload this to repo\n",
        "custom_prompt_selector = {\n",
        "    \"beginner\": [False, \"Provide stock analysis for a beginner investor including the revenue model, business stand and position in the market. \"],\n",
        "    \"expert\": [True, \"Provide stock analysis for an expert investor including the risk factor by classifying it among High, low or medium; returns expected in high(greater than 15% per annum), medium(between 5% to 15% per annum) ,low(less than 5% per annum); Suggested investment duration among short term(within months) or longterm(within years). For every every decision you make provide a reason correleating it with stock price and market perfromance. \"],\n",
        "    \"SWOT\": [True, \"Include SWOT analysis, by listing top 3 strengths, weaknesses, Opportunities and Threats. If possible add if the above points are for short term or long term. \"],\n",
        "    \"competitive\": [True, \"Compare the current stock and its potential competitor interms of 'Market size', 'revenue stream', their strengths. For every comparison provide which stock is better. And in the end provide which stock is better based on your overall analysis. \"]\n",
        "}\n",
        "os.environ[\"OPENAI_API_KEY\"] = \"YOUR_OPEN_API_KEY\""
      ]
    },
    {
      "cell_type": "code",
      "execution_count": 69,
      "metadata": {
        "id": "KCGuNzFxaRYi"
      },
      "outputs": [],
      "source": [
        "news_article_summarizer_function = [\n",
        "        {\n",
        "            \"name\": \"formatted_news_article_summary\",\n",
        "            \"description\": \"Format the summary of the stock news in a JSON format.\",\n",
        "            \"parameters\": {\n",
        "                \"type\": \"object\",\n",
        "                \"properties\": {\n",
        "                    \"summary_line\": {\n",
        "                        \"type\": \"string\",\n",
        "                        \"description\": \"Based on the news article content summarize the news article interms of correleation with stock price and impact. Do not include its strength or weaknesses or threats or anything about the performance.\"\n",
        "                    },\n",
        "                    \"Strengths\": {\n",
        "                        \"type\": \"string\",\n",
        "                        \"description\": \"Based on the content given, provide 2 strengths. If there are no strengths, return 'NONE'\"\n",
        "                    },\n",
        "                    \"Weaknesses\": {\n",
        "                        \"type\": \"string\",\n",
        "                        \"description\": \"Based on the content given, provide 2 weaknesses. If there are no weaknesses, return 'NONE'\"\n",
        "                    },\n",
        "                    \"Opportunities\": {\n",
        "                        \"type\": \"number\",\n",
        "                        \"description\": \"Based on the content given, provide 2 opportunities. If there are no opportunities, return 'NONE'\"\n",
        "                    },\n",
        "                    \"Threats\": {\n",
        "                        \"type\": \"string\",\n",
        "                        \"description\": \"Based on the content given, provide 2 threats. If there are no threats, return 'NONE'.\"\n",
        "                    }\n",
        "                }\n",
        "            }\n",
        "        }\n",
        "]\n",
        "\n",
        "combine_stock_news = [\n",
        " {\n",
        "            \"name\": \"combined_news_article_summary\",\n",
        "            \"description\": \"Combine the news articles summaries in a JSON format.\",\n",
        "            \"parameters\": {\n",
        "                \"type\": \"object\",\n",
        "                \"properties\": {\n",
        "                    \"summary_line\": {\n",
        "                        \"type\": \"string\",\n",
        "                        \"description\": \"Based on the list of summaries of articles content you have in a json format article, combine and summarize the news article interms of correleation with stock price and impact. Do not include its strength or weaknesses or threats or anything about the performance. Do not miss any key infromation that is useful for the user to decide stock performance.\"\n",
        "                    },\n",
        "                    \"Strengths\": {\n",
        "                        \"type\": \"string\",\n",
        "                        \"description\": \"Based on the list of summariers given, provide top 4 strengths. If there are no strengths, return 'NONE'\"\n",
        "                    },\n",
        "                    \"Weaknesses\": {\n",
        "                        \"type\": \"string\",\n",
        "                        \"description\": \"Based on the list of summariers given, provide top 4  weaknesses. If there are no weaknesses, return 'NONE'\"\n",
        "                    },\n",
        "                    \"Opportunities\": {\n",
        "                        \"type\": \"number\",\n",
        "                        \"description\": \"Based on the list of summariers given, provide top 4  opportunities. If there are no opportunities, return 'NONE'\"\n",
        "                    },\n",
        "                    \"Threats\": {\n",
        "                        \"type\": \"string\",\n",
        "                        \"description\": \"Based on the list of summariers given, provide top 4  threats. If there are no threats, return 'NONE'.\"\n",
        "                    }\n",
        "                }\n",
        "            }\n",
        "        }\n",
        "]"
      ]
    },
    {
      "cell_type": "code",
      "execution_count": 70,
      "metadata": {
        "id": "C3GVriDCKj-y"
      },
      "outputs": [],
      "source": [
        " # TO DO:  fetch from frontend\n",
        "current_ticker = 'NVDA'\n",
        "new_custom_prompt_selector = custom_prompt_selector.copy()\n",
        "# TO DO: Based on frontend input\n",
        "# new_custom_prompt_selector[\"beginner\"] =\n",
        "# new_custom_prompt_selector[\"expert\"] =\n",
        "# new_custom_prompt_selector[\"SWOT\"] =\n",
        "# new_custom_prompt_selector[\"competitive\"] ="
      ]
    },
    {
      "cell_type": "code",
      "execution_count": 71,
      "metadata": {
        "colab": {
          "base_uri": "https://localhost:8080/"
        },
        "id": "hEt48TifJI6e",
        "outputId": "f3bc973e-ab95-48c3-bb49-82c93077c3bb"
      },
      "outputs": [
        {
          "name": "stdout",
          "output_type": "stream",
          "text": [
            "Provide stock analysis for an expert investor including the risk factor by classifying it among High, low or medium; returns expected in high(greater than 15% per annum), medium(between 5% to 15% per annum) ,low(less than 5% per annum); Suggested investment duration among short term(within months) or longterm(within years). For every every decision you make provide a reason correleating it with stock price and market perfromance. Include SWOT analysis, by listing top 3 strengths, weaknesses, Opportunities and Threats. If possible add if the above points are for short term or long term. Compare the current stock and its potential competitor interms of 'Market size', 'revenue stream', their strengths. For every comparison provide which stock is better. And in the end provide which stock is better based on your overall analysis. \n"
          ]
        }
      ],
      "source": [
        "# construct prompt based on user input\n",
        "def get_final_prompt(new_custom_prompt_selector):\n",
        "    final_prompt = \"\"\n",
        "    for prompt_type in new_custom_prompt_selector:\n",
        "        if custom_prompt_selector[prompt_type][0]:\n",
        "            final_prompt = final_prompt + custom_prompt_selector[prompt_type][1]\n",
        "    print(final_prompt)\n",
        "    return final_prompt\n",
        "final_prompt = get_final_prompt(new_custom_prompt_selector)"
      ]
    },
    {
      "cell_type": "code",
      "execution_count": 72,
      "metadata": {
        "id": "tTN9fydK9XWZ"
      },
      "outputs": [],
      "source": [
        "# Code for fetching list of articles\n",
        "with open(articles_data_path, \"r\") as file:\n",
        "    json_data = file.read()\n",
        "data = json.loads(json_data)"
      ]
    },
    {
      "cell_type": "code",
      "execution_count": 73,
      "metadata": {
        "colab": {
          "base_uri": "https://localhost:8080/"
        },
        "id": "lw6krcoI9bJO",
        "outputId": "9a75bba2-e967-46ce-b7de-f354885ffd8b"
      },
      "outputs": [
        {
          "name": "stdout",
          "output_type": "stream",
          "text": [
            "Name: NVIDIA\n",
            "Date: 2024-04-06\n",
            "URL: https://markets.businessinsider.com/news/stocks/nvidia-stock-price-prediction-artificial-intelligence-gpu-earnings-forecast-rally-2024-4\n",
            "Content: 3793\n",
            "Date: 2024-03-12\n",
            "URL: https://www.forbes.com/sites/investor-hub/article/will-nvidia-stock-split-2024/?sh=69af636a49ec\n",
            "Content: 9028\n",
            "Date: 2024-03-30\n",
            "URL: https://finance.yahoo.com/news/nvidia-stock-amd-stock-wont-122230465.html\n",
            "Content: 1244\n"
          ]
        }
      ],
      "source": [
        "# Code for printing number of articles for each\n",
        "# Extract information based on ticker name\n",
        "for company in data[\"companies\"]:\n",
        "    if company[\"ticker\"] == current_ticker:\n",
        "        print(\"Name:\", company[\"name\"])\n",
        "        for article in company[\"articles\"]:\n",
        "            print(\"Date:\", article[\"date\"])\n",
        "            print(\"URL:\", article[\"url\"])\n",
        "            print(\"Content:\", len(article[\"content\"]))"
      ]
    },
    {
      "cell_type": "code",
      "execution_count": 74,
      "metadata": {
        "id": "t1Y7RI3WOqmu"
      },
      "outputs": [],
      "source": [
        "def summarize_all_news_articles(prompt, function):\n",
        "    summaries = []\n",
        "    messages=[{\"role\": \"system\", \"content\": prompt}]\n",
        "    for company in data[\"companies\"]:\n",
        "        if company[\"ticker\"] == current_ticker:\n",
        "            print(\"Name:\", company[\"name\"])\n",
        "            for article in company[\"articles\"]:\n",
        "                print(\"Date:\", article[\"date\"])\n",
        "                print(\"URL:\", article[\"url\"])\n",
        "                print(\"Content:\", len(article[\"content\"]))\n",
        "\n",
        "                client = OpenAI()\n",
        "                messages.append({\"role\":\"user\",\"content\":article[\"content\"]})\n",
        "                completion = client.chat.completions.create(\n",
        "                  model=\"gpt-3.5-turbo\",\n",
        "                  messages=messages,\n",
        "                  functions = function,\n",
        "                  function_call='auto'\n",
        "                )\n",
        "                print(\"Summarized one news article.\")\n",
        "\n",
        "                args = completion.choices[0].message.function_call.arguments\n",
        "                try:\n",
        "                    output = json.loads(args)\n",
        "                    summaries.append(output)\n",
        "                except:\n",
        "                    print (\"Incorrect JSON format returned.\")\n",
        "                    time.sleep(10)\n",
        "\n",
        "    return summaries"
      ]
    },
    {
      "cell_type": "code",
      "execution_count": null,
      "metadata": {
        "id": "YKOICt5byD78"
      },
      "outputs": [],
      "source": []
    },
    {
      "cell_type": "code",
      "execution_count": null,
      "metadata": {
        "id": "2XG4EEXwyD4r"
      },
      "outputs": [],
      "source": []
    },
    {
      "cell_type": "code",
      "execution_count": 75,
      "metadata": {
        "id": "H13Z0hSGu-ye"
      },
      "outputs": [],
      "source": [
        "def combine_all_articles(prompt_to_combine, final_prompt, function):\n",
        "    client = OpenAI()\n",
        "    messages=[{\"role\": \"user\", \"content\": prompt_to_combine}]\n",
        "    messages.append({\"role\":\"user\",\"content\":f\" {summaries}\"})\n",
        "    completion = client.chat.completions.create(\n",
        "        model=\"gpt-3.5-turbo\",\n",
        "        messages=messages\n",
        "      )\n",
        "    combined_summary = completion.choices[0].message.content\n",
        "\n",
        "    messages=[{\"role\": \"user\", \"content\": final_prompt}]\n",
        "    messages.append({\"role\":\"user\",\"content\":f\" {combined_summary}\"})\n",
        "\n",
        "    completion = client.chat.completions.create(\n",
        "        model=\"gpt-3.5-turbo\",\n",
        "        messages=messages,\n",
        "        functions = function,\n",
        "        function_call='auto'\n",
        "      )\n",
        "\n",
        "    args = completion.choices[0].message.function_call.arguments\n",
        "\n",
        "    try:\n",
        "        output = ast.literal_eval(args)\n",
        "    except:\n",
        "        output = json.loads(args)\n",
        "    return {current_ticker:output}"
      ]
    },
    {
      "cell_type": "code",
      "execution_count": 76,
      "metadata": {
        "colab": {
          "base_uri": "https://localhost:8080/"
        },
        "id": "E2KXuWrfTb_K",
        "outputId": "998cebdf-9959-4375-d389-d68c29c212bf"
      },
      "outputs": [
        {
          "name": "stdout",
          "output_type": "stream",
          "text": [
            "Name: NVIDIA\n",
            "Date: 2024-04-06\n",
            "URL: https://markets.businessinsider.com/news/stocks/nvidia-stock-price-prediction-artificial-intelligence-gpu-earnings-forecast-rally-2024-4\n",
            "Content: 3793\n",
            "Summarized one news article.\n",
            "Date: 2024-03-12\n",
            "URL: https://www.forbes.com/sites/investor-hub/article/will-nvidia-stock-split-2024/?sh=69af636a49ec\n",
            "Content: 9028\n",
            "Summarized one news article.\n",
            "Date: 2024-03-30\n",
            "URL: https://finance.yahoo.com/news/nvidia-stock-amd-stock-wont-122230465.html\n",
            "Content: 1244\n",
            "Summarized one news article.\n"
          ]
        }
      ],
      "source": [
        "news_articles_prompt = \"You are stock news analyzer. Store key content of the news that impacts profit and loss of the company, Strengths, weaknesses, opportunities, threats.\"\n",
        "summaries = summarize_all_news_articles(news_articles_prompt, news_article_summarizer_function)"
      ]
    },
    {
      "cell_type": "code",
      "execution_count": 77,
      "metadata": {
        "colab": {
          "base_uri": "https://localhost:8080/"
        },
        "id": "-p__5ZcVaotP",
        "outputId": "2270a737-1b1a-4251-b6d0-50ef59372455"
      },
      "outputs": [
        {
          "name": "stdout",
          "output_type": "stream",
          "text": [
            "[{'summary_line': \"Several Wall Street analysts predict a stumble in Nvidia's stock price after a stellar year of crushing earnings estimates. Predictions include a 20% slide in stock price and expectations of declining demand for Nvidia's products by 2026. Despite being an AI leader, competition and high valuation pose risks to Nvidia's future performance.\", 'Strengths': 'NONE', 'Weaknesses': \"Nvidia's stock price may face a 20% slide, and demand for its products is expected to decline by 2026.\", 'Opportunities': None, 'Threats': 'Competition in the AI space, potential for other chipmakers to build chips in-house for specific AI workloads, risk of economic slowdown impacting GPU spending by customers like Microsoft.'}, {'summary_line': \"Several Wall Street analysts predict that Nvidia's stock, which has seen meteoric rises, may start to stumble in 2024.\", 'Strengths': '- Nvidia has been a profitable leader in artificial intelligence, with significant growth in its Data Center division.\\n- The company has a dominant market share in AI chips, making it one of the best tech stocks of 2024.', 'Weaknesses': \"- Analysts have raised concerns about Nvidia's sky-high valuation and the possibility of a slowdown in demand for its products.\\n- Competition in the AI space from other chipmakers like Microsoft and Amazon poses a threat to Nvidia's market dominance.\", 'Opportunities': 'NONE', 'Threats': \"- The potential for a slowdown in the economy could impact Nvidia's stock price.\\n- Accessibility concerns for the stock due to its high price may limit the pool of prospective shareholders.\"}, {'summary_line': \"Nvidia is facing skepticism from Wall Street analysts regarding its future growth potential despite its stellar performance so far. The stock has doubled in value twice since 2022, gaining nearly 500% in 14 months. The company's emergence as a leader in artificial intelligence has been a key driver of its stock price surge. Analysts predict a potential 20% slide in Nvidia stock by the end of the year and question its ability to sustain its rapid growth. The company faces risks from competition in the AI space and potential economic slowdowns. Despite the bullish rally, investors are cautious about Nvidia's outlook.\", 'Strengths': 'NONE', 'Weaknesses': 'Skepticism from Wall Street analysts, Uncertainty about future growth potential', 'Opportunities': None, 'Threats': 'Competition in the AI space, Potential economic slowdowns'}]\n"
          ]
        }
      ],
      "source": [
        "print(summaries)"
      ]
    },
    {
      "cell_type": "code",
      "execution_count": 78,
      "metadata": {
        "id": "GPmRr6srvALo"
      },
      "outputs": [],
      "source": [
        "file_name = \"combined_summaries_expert.json\"\n",
        "prompt_to_combine = \"Based on the list of summaries of articles content you have in a json format article, combine and summarize the news articles ina json format. Do not miss any key information that is useful for the user to decide stock performance.\"\n",
        "final_summary = combine_all_articles(prompt_to_combine, final_prompt, combine_stock_news)\n",
        "with open(file_name, \"w\") as file:\n",
        "    json.dump(final_summary, file)"
      ]
    }
  ],
  "metadata": {
    "colab": {
      "provenance": []
    },
    "kernelspec": {
      "display_name": "Python 3",
      "name": "python3"
    },
    "language_info": {
      "name": "python"
    }
  },
  "nbformat": 4,
  "nbformat_minor": 0
}
